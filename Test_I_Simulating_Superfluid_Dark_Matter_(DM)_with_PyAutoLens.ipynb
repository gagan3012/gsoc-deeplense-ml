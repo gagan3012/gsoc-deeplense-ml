{
  "nbformat": 4,
  "nbformat_minor": 0,
  "metadata": {
    "colab": {
      "name": "Test I. Simulating Superfluid Dark Matter (DM) with PyAutoLens.ipynb",
      "provenance": [],
      "authorship_tag": "ABX9TyOE1MeI0NUHmrEfd0wGmRc9",
      "include_colab_link": true
    },
    "kernelspec": {
      "name": "python3",
      "display_name": "Python 3"
    },
    "language_info": {
      "name": "python"
    }
  },
  "cells": [
    {
      "cell_type": "markdown",
      "metadata": {
        "id": "view-in-github",
        "colab_type": "text"
      },
      "source": [
        "<a href=\"https://colab.research.google.com/github/gagan3012/gsoc-ml/blob/master/Test_I_Simulating_Superfluid_Dark_Matter_(DM)_with_PyAutoLens.ipynb\" target=\"_parent\"><img src=\"https://colab.research.google.com/assets/colab-badge.svg\" alt=\"Open In Colab\"/></a>"
      ]
    },
    {
      "cell_type": "markdown",
      "metadata": {
        "id": "43ebZKvBg2SY"
      },
      "source": [
        "# About Me"
      ]
    },
    {
      "cell_type": "markdown",
      "metadata": {
        "id": "0Sg5o-EZg5Vx"
      },
      "source": [
        "### Name: Gagan Bhatia\n",
        "### Email: gbhatia880@gmail.com\n",
        "### GitHub: https://github.com/gagan3012\n",
        "### Resume: https://drive.google.com/file/d/1SpEEjBFZy0osNV0bQOxNgZ-Z_VHUzWss/view?usp=sharing "
      ]
    },
    {
      "cell_type": "markdown",
      "metadata": {
        "id": "JYS_-yYrf3gE"
      },
      "source": [
        "# Simulating Superfluid Dark Matter (DM) with PyAutoLens"
      ]
    },
    {
      "cell_type": "markdown",
      "metadata": {
        "id": "de-wqkdGf8XJ"
      },
      "source": [
        "PyAutoLens is open source software for the analysis and modeling of strong gravitational lenses. Its target audience is anyone with an interest in strong gravitational lensing, whether that be study the mass structure properties of the foreground lens galaxy or the magnified properties of the backgrounds source."
      ]
    },
    {
      "cell_type": "markdown",
      "metadata": {
        "id": "eH54MEbZgFI0"
      },
      "source": [
        "**Task**: Modify and/or use the already existing functionality of PyAutoLens to simulate strong lensing from superfluid dark matter. Specifically, you will need to simulate the effects of lensing from a linear mass density - imagine this being a string of mass on galactic scales."
      ]
    },
    {
      "cell_type": "markdown",
      "metadata": {
        "id": "5DH0izA1ir7q"
      },
      "source": [
        ""
      ]
    },
    {
      "cell_type": "code",
      "metadata": {
        "id": "ijPA9u0cf6My"
      },
      "source": [
        "%matplotlib inline\n",
        "!pip install autolens autofit astropy\n",
        "\n",
        "import autolens as al\n",
        "import autofit as af\n",
        "import autolens.plot as aplt\n",
        "from astropy import cosmology as cosmo"
      ],
      "execution_count": null,
      "outputs": []
    },
    {
      "cell_type": "code",
      "metadata": {
        "id": "YQ_Yw3055b1O"
      },
      "source": [
        "grid = al.Grid2D.uniform(\n",
        "    shape_native=(150, 150),\n",
        "    pixel_scales=0.1,  \n",
        ")\n",
        "\n",
        "grid_plotter = aplt.Grid2DPlotter(grid=grid)"
      ],
      "execution_count": 3,
      "outputs": []
    },
    {
      "cell_type": "code",
      "metadata": {
        "id": "ncAwHzXU6A6q"
      },
      "source": [
        "sersic_light_profile = al.lp.EllipticalSersic(\n",
        "    centre=(0.0, 0.0),\n",
        "    elliptical_comps=(0.2, 0.2),\n",
        "    intensity=0.05,\n",
        "    effective_radius=4.0,\n",
        "    sersic_index=4.0,\n",
        ")"
      ],
      "execution_count": 11,
      "outputs": []
    },
    {
      "cell_type": "code",
      "metadata": {
        "id": "HZddGkf_6Dji",
        "outputId": "8589c0ac-bd09-47df-8b4c-f3c0068aae6f",
        "colab": {
          "base_uri": "https://localhost:8080/",
          "height": 287
        }
      },
      "source": [
        "import matplotlib.pyplot as plt\n",
        "\n",
        "image = sersic_light_profile.image_from_grid(grid=grid)\n",
        "\n",
        "plt.imshow(image.native)"
      ],
      "execution_count": 12,
      "outputs": [
        {
          "output_type": "execute_result",
          "data": {
            "text/plain": [
              "<matplotlib.image.AxesImage at 0x7f802445fd10>"
            ]
          },
          "metadata": {
            "tags": []
          },
          "execution_count": 12
        },
        {
          "output_type": "display_data",
          "data": {
            "image/png": "[encoded data removed]",
            "text/plain": [
              "<Figure size 432x288 with 1 Axes>"
            ]
          },
          "metadata": {
            "tags": [],
            "needs_background": "light"
          }
        }
      ]
    },
    {
      "cell_type": "code",
      "metadata": {
        "id": "xzwnpyok6Idd",
        "outputId": "674970b5-92eb-40e6-98f1-0ed9db842226",
        "colab": {
          "base_uri": "https://localhost:8080/",
          "height": 458
        }
      },
      "source": [
        "light_profile_plotter = aplt.LightProfilePlotter(\n",
        "    light_profile=sersic_light_profile, grid=grid\n",
        ")\n",
        "light_profile_plotter.figures(image=True)"
      ],
      "execution_count": 13,
      "outputs": [
        {
          "output_type": "display_data",
          "data": {
            "image/png": "[encoded data removed]",
            "text/plain": [
              "<Figure size 504x504 with 2 Axes>"
            ]
          },
          "metadata": {
            "tags": [],
            "needs_background": "light"
          }
        }
      ]
    },
    {
      "cell_type": "code",
      "metadata": {
        "id": "A3l8hSqF6kMA"
      },
      "source": [
        "\n",
        "isothermal_mass_profile = al.mp.EllipticalIsothermal(\n",
        "    centre=(0.0, 0.0), elliptical_comps=(0.1, 0.0), einstein_radius=1.6\n",
        ")\n",
        "\n",
        "deflections = isothermal_mass_profile.deflections_from_grid(grid=grid)"
      ],
      "execution_count": 14,
      "outputs": []
    },
    {
      "cell_type": "markdown",
      "metadata": {
        "id": "8zcVbVzi6vvg"
      },
      "source": [
        "#Analyzing of the deflection angles\n"
      ]
    },
    {
      "cell_type": "code",
      "metadata": {
        "id": "v6TWCtR46s54"
      },
      "source": [
        ""
      ],
      "execution_count": null,
      "outputs": []
    }
  ]
}