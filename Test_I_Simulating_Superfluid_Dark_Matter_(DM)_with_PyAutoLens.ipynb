{
  "nbformat": 4,
  "nbformat_minor": 0,
  "metadata": {
    "colab": {
      "name": "Test I. Simulating Superfluid Dark Matter (DM) with PyAutoLens.ipynb",
      "provenance": [],
      "authorship_tag": "ABX9TyPmxjDYy5sFJVwJqMK5/MAr",
      "include_colab_link": true
    },
    "kernelspec": {
      "name": "python3",
      "display_name": "Python 3"
    },
    "language_info": {
      "name": "python"
    }
  },
  "cells": [
    {
      "cell_type": "markdown",
      "metadata": {
        "id": "view-in-github",
        "colab_type": "text"
      },
      "source": [
        "<a href=\"https://colab.research.google.com/github/gagan3012/gsoc-ml/blob/master/Test_I_Simulating_Superfluid_Dark_Matter_(DM)_with_PyAutoLens.ipynb\" target=\"_parent\"><img src=\"https://colab.research.google.com/assets/colab-badge.svg\" alt=\"Open In Colab\"/></a>"
      ]
    },
    {
      "cell_type": "markdown",
      "metadata": {
        "id": "43ebZKvBg2SY"
      },
      "source": [
        "# About Me"
      ]
    },
    {
      "cell_type": "markdown",
      "metadata": {
        "id": "0Sg5o-EZg5Vx"
      },
      "source": [
        "### Name: Gagan Bhatia\n",
        "### Email: gbhatia880@gmail.com\n",
        "### GitHub: https://github.com/gagan3012\n",
        "### Resume: https://drive.google.com/file/d/1SpEEjBFZy0osNV0bQOxNgZ-Z_VHUzWss/view?usp=sharing "
      ]
    },
    {
      "cell_type": "markdown",
      "metadata": {
        "id": "JYS_-yYrf3gE"
      },
      "source": [
        "# Simulating Superfluid Dark Matter (DM) with PyAutoLens"
      ]
    },
    {
      "cell_type": "markdown",
      "metadata": {
        "id": "de-wqkdGf8XJ"
      },
      "source": [
        "PyAutoLens is open source software for the analysis and modeling of strong gravitational lenses. Its target audience is anyone with an interest in strong gravitational lensing, whether that be study the mass structure properties of the foreground lens galaxy or the magnified properties of the backgrounds source."
      ]
    },
    {
      "cell_type": "markdown",
      "metadata": {
        "id": "eH54MEbZgFI0"
      },
      "source": [
        ""
      ]
    },
    {
      "cell_type": "code",
      "metadata": {
        "id": "ijPA9u0cf6My"
      },
      "source": [
        ""
      ],
      "execution_count": null,
      "outputs": []
    }
  ]
}