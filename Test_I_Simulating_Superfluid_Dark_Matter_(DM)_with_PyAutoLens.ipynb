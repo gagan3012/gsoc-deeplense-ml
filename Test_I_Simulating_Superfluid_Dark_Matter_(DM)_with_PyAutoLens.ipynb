{
  "nbformat": 4,
  "nbformat_minor": 0,
  "metadata": {
    "colab": {
      "name": "Test I. Simulating Superfluid Dark Matter (DM) with PyAutoLens.ipynb",
      "provenance": [],
      "authorship_tag": "ABX9TyNIeOiqKntjZEHDKLexmG6t",
      "include_colab_link": true
    },
    "kernelspec": {
      "name": "python3",
      "display_name": "Python 3"
    },
    "language_info": {
      "name": "python"
    }
  },
  "cells": [
    {
      "cell_type": "markdown",
      "metadata": {
        "id": "view-in-github",
        "colab_type": "text"
      },
      "source": [
        "<a href=\"https://colab.research.google.com/github/gagan3012/gsoc-ml/blob/master/Test_I_Simulating_Superfluid_Dark_Matter_(DM)_with_PyAutoLens.ipynb\" target=\"_parent\"><img src=\"https://colab.research.google.com/assets/colab-badge.svg\" alt=\"Open In Colab\"/></a>"
      ]
    },
    {
      "cell_type": "markdown",
      "metadata": {
        "id": "43ebZKvBg2SY"
      },
      "source": [
        "# About Me"
      ]
    },
    {
      "cell_type": "markdown",
      "metadata": {
        "id": "0Sg5o-EZg5Vx"
      },
      "source": [
        "### Name: Gagan Bhatia\n",
        "### Email: gbhatia880@gmail.com\n",
        "### GitHub: https://github.com/gagan3012\n",
        "### Resume: https://drive.google.com/file/d/1SpEEjBFZy0osNV0bQOxNgZ-Z_VHUzWss/view?usp=sharing "
      ]
    },
    {
      "cell_type": "markdown",
      "metadata": {
        "id": "JYS_-yYrf3gE"
      },
      "source": [
        "# Simulating Superfluid Dark Matter (DM) with PyAutoLens"
      ]
    },
    {
      "cell_type": "markdown",
      "metadata": {
        "id": "de-wqkdGf8XJ"
      },
      "source": [
        "PyAutoLens is open source software for the analysis and modeling of strong gravitational lenses. Its target audience is anyone with an interest in strong gravitational lensing, whether that be study the mass structure properties of the foreground lens galaxy or the magnified properties of the backgrounds source."
      ]
    },
    {
      "cell_type": "markdown",
      "metadata": {
        "id": "eH54MEbZgFI0"
      },
      "source": [
        "**Task**: Modify and/or use the already existing functionality of PyAutoLens to simulate strong lensing from superfluid dark matter. Specifically, you will need to simulate the effects of lensing from a linear mass density - imagine this being a string of mass on galactic scales."
      ]
    },
    {
      "cell_type": "markdown",
      "metadata": {
        "id": "5DH0izA1ir7q"
      },
      "source": [
        ""
      ]
    },
    {
      "cell_type": "code",
      "metadata": {
        "id": "ijPA9u0cf6My",
        "outputId": "064c66b0-061f-4659-b1a2-b895de1bf0bb",
        "colab": {
          "base_uri": "https://localhost:8080/"
        }
      },
      "source": [
        "%matplotlib inline\n",
        "!pip install autolens autofit astropy\n",
        "\n",
        "import autolens as al\n",
        "import autofit as af\n",
        "import autolens.plot as aplt\n",
        "from astropy import cosmology as cosmo"
      ],
      "execution_count": 2,
      "outputs": [
        {
          "output_type": "stream",
          "text": [
            "Collecting autolens\n",
            "\u001b[?25l  Downloading https://files.pythonhosted.org/packages/5b/7d/815e791db91ba177281145ea7d086e4d36481e80c598cea014a9279ff3c3/autolens-1.14.0-py3-none-any.whl (174kB)\n",
            "\u001b[K     |████████████████████████████████| 184kB 5.2MB/s \n",
            "\u001b[?25hCollecting autofit\n",
            "\u001b[?25l  Downloading https://files.pythonhosted.org/packages/62/9d/7aca1fb540f55dd92b96a97696f8bca1709acc315b9aa89aee739ba5b573/autofit-0.74.0-py3-none-any.whl (1.6MB)\n",
            "\u001b[K     |████████████████████████████████| 1.6MB 6.0MB/s \n",
            "\u001b[?25hRequirement already satisfied: astropy in /usr/local/lib/python3.7/dist-packages (4.2)\n",
            "Collecting pyprojroot==0.2.0\n",
            "  Downloading https://files.pythonhosted.org/packages/5a/f5/dfbe49718595ff62be70e001b85e58a125928e93bf60f8bb6b7b94280e39/pyprojroot-0.2.0-py3-none-any.whl\n",
            "Collecting autoconf==0.8.0\n",
            "  Downloading https://files.pythonhosted.org/packages/a9/0e/ab77ac9b60d614a72a7aef4be308a53f69ece3f279bcaf5fb32e01b69ea5/autoconf-0.8.0-py3-none-any.whl\n",
            "Collecting numpydoc>=1.0.0\n",
            "\u001b[?25l  Downloading https://files.pythonhosted.org/packages/60/1d/9e398c53d6ae27d5ab312ddc16a9ffe1bee0dfdf1d6ec88c40b0ca97582e/numpydoc-1.1.0-py3-none-any.whl (47kB)\n",
            "\u001b[K     |████████████████████████████████| 51kB 5.5MB/s \n",
            "\u001b[?25hRequirement already satisfied: matplotlib>=3.0.3 in /usr/local/lib/python3.7/dist-packages (from autolens) (3.2.2)\n",
            "Collecting autoarray==0.20.0\n",
            "\u001b[?25l  Downloading https://files.pythonhosted.org/packages/1c/74/a3c885f7574a6290d03bcfc9d376b1a994219d6f4bbff59bb153ab20d03d/autoarray-0.20.0-py3-none-any.whl (379kB)\n",
            "\u001b[K     |████████████████████████████████| 389kB 17.2MB/s \n",
            "\u001b[?25hCollecting autogalaxy==0.19.0\n",
            "\u001b[?25l  Downloading https://files.pythonhosted.org/packages/ca/fc/485ba756244ae524fbfd0634c9191e117ea3178c585d74833e4d4366870a/autogalaxy-0.19.0-py3-none-any.whl (294kB)\n",
            "\u001b[K     |████████████████████████████████| 296kB 18.5MB/s \n",
            "\u001b[?25hRequirement already satisfied: numpy>=1.18.0 in /usr/local/lib/python3.7/dist-packages (from autolens) (1.19.5)\n",
            "Collecting emcee>=3.0.2\n",
            "\u001b[?25l  Downloading https://files.pythonhosted.org/packages/97/f4/00151f5f843088337c6a53edd6cbb2df340f1044d23080c662f95219cc3f/emcee-3.0.2-py2.py3-none-any.whl (41kB)\n",
            "\u001b[K     |████████████████████████████████| 51kB 5.6MB/s \n",
            "\u001b[?25hRequirement already satisfied: decorator>=4.2.1 in /usr/local/lib/python3.7/dist-packages (from autofit) (4.4.2)\n",
            "Requirement already satisfied: dill>=0.3.1.1 in /usr/local/lib/python3.7/dist-packages (from autofit) (0.3.3)\n",
            "Collecting dynesty==1.0.1\n",
            "\u001b[?25l  Downloading https://files.pythonhosted.org/packages/94/e6/dc4369009259a0a113b3f91e223be9229f71d8350aca6ec8fe978982d2f9/dynesty-1.0.1-py2.py3-none-any.whl (86kB)\n",
            "\u001b[K     |████████████████████████████████| 92kB 6.8MB/s \n",
            "\u001b[?25hRequirement already satisfied: PyYAML>=3.12 in /usr/local/lib/python3.7/dist-packages (from autofit) (3.13)\n",
            "Collecting scipy==1.5.2\n",
            "\u001b[?25l  Downloading https://files.pythonhosted.org/packages/65/f9/f7a7e5009711579c72da2725174825e5056741bf4001815d097eef1b2e17/scipy-1.5.2-cp37-cp37m-manylinux1_x86_64.whl (25.9MB)\n",
            "\u001b[K     |████████████████████████████████| 25.9MB 42.0MB/s \n",
            "\u001b[?25hRequirement already satisfied: h5py>=2.10.0 in /usr/local/lib/python3.7/dist-packages (from autofit) (2.10.0)\n",
            "Collecting corner>=2.0.1\n",
            "  Downloading https://files.pythonhosted.org/packages/b6/ec/9cdcaebd0eb378225312a7952299df201126555cbde1fb2424c63b49d1f4/corner-2.2.1-py3-none-any.whl\n",
            "Collecting pyswarms==1.1.0\n",
            "\u001b[?25l  Downloading https://files.pythonhosted.org/packages/0b/6f/42605c4e111a08a8fbaba953d0783c56ad2913ffa5959bdac53f649502a2/pyswarms-1.1.0-py2.py3-none-any.whl (96kB)\n",
            "\u001b[K     |████████████████████████████████| 102kB 8.9MB/s \n",
            "\u001b[?25hCollecting SQLAlchemy==1.3.20\n",
            "\u001b[?25l  Downloading https://files.pythonhosted.org/packages/a7/91/f4f202d214849d071d4d4481176b09a3ffb9299ca33a8775629cce47daec/SQLAlchemy-1.3.20-cp37-cp37m-manylinux2010_x86_64.whl (1.3MB)\n",
            "\u001b[K     |████████████████████████████████| 1.3MB 48.4MB/s \n",
            "\u001b[?25hCollecting typing-inspect>=0.4.0\n",
            "  Downloading https://files.pythonhosted.org/packages/42/1c/66402db44184904a2f14722d317a4da0b5c8c78acfc3faf74362566635c5/typing_inspect-0.6.0-py3-none-any.whl\n",
            "Requirement already satisfied: pyerfa in /usr/local/lib/python3.7/dist-packages (from astropy) (1.7.2)\n",
            "Requirement already satisfied: sphinx>=1.6.5 in /usr/local/lib/python3.7/dist-packages (from numpydoc>=1.0.0->autolens) (1.8.5)\n",
            "Requirement already satisfied: Jinja2>=2.3 in /usr/local/lib/python3.7/dist-packages (from numpydoc>=1.0.0->autolens) (2.11.3)\n",
            "Requirement already satisfied: cycler>=0.10 in /usr/local/lib/python3.7/dist-packages (from matplotlib>=3.0.3->autolens) (0.10.0)\n",
            "Requirement already satisfied: python-dateutil>=2.1 in /usr/local/lib/python3.7/dist-packages (from matplotlib>=3.0.3->autolens) (2.8.1)\n",
            "Requirement already satisfied: pyparsing!=2.0.4,!=2.1.2,!=2.1.6,>=2.0.1 in /usr/local/lib/python3.7/dist-packages (from matplotlib>=3.0.3->autolens) (2.4.7)\n",
            "Requirement already satisfied: kiwisolver>=1.0.1 in /usr/local/lib/python3.7/dist-packages (from matplotlib>=3.0.3->autolens) (1.3.1)\n",
            "Requirement already satisfied: scikit-image>=0.14.2 in /usr/local/lib/python3.7/dist-packages (from autoarray==0.20.0->autolens) (0.16.2)\n",
            "Requirement already satisfied: scikit-learn>=0.21.3 in /usr/local/lib/python3.7/dist-packages (from autoarray==0.20.0->autolens) (0.22.2.post1)\n",
            "Collecting pylops>=1.10.0\n",
            "\u001b[?25l  Downloading https://files.pythonhosted.org/packages/66/55/97ff3ade2299ff0a09a5a104d32897f916299116ae75bc150c0f4c5eb1c7/pylops-1.12.0-py3-none-any.whl (166kB)\n",
            "\u001b[K     |████████████████████████████████| 174kB 59.4MB/s \n",
            "\u001b[?25hRequirement already satisfied: llvmlite in /usr/local/lib/python3.7/dist-packages (from autoarray==0.20.0->autolens) (0.34.0)\n",
            "Collecting pynufft==2020.2.7\n",
            "\u001b[?25l  Downloading https://files.pythonhosted.org/packages/09/c3/f5b65999f198f2fc28fe425620bbd8dea9618c599a7c17bd05e7975aa703/pynufft-2020.2.7-py3-none-any.whl (16.2MB)\n",
            "\u001b[K     |████████████████████████████████| 16.2MB 135kB/s \n",
            "\u001b[?25hRequirement already satisfied: numba in /usr/local/lib/python3.7/dist-packages (from autoarray==0.20.0->autolens) (0.51.2)\n",
            "Collecting pyquad==0.6.2\n",
            "\u001b[?25l  Downloading https://files.pythonhosted.org/packages/fd/8a/d516ab92daec74e6ef68aed8df3eca0631aaa81d571dca040de8a2ad727e/pyquad-0.6.2-cp37-cp37m-manylinux2010_x86_64.whl (503kB)\n",
            "\u001b[K     |████████████████████████████████| 512kB 49.8MB/s \n",
            "\u001b[?25hCollecting colossus==1.2.14\n",
            "\u001b[?25l  Downloading https://files.pythonhosted.org/packages/da/3a/9010e227ca584841a15f1934c5cce7609a52a7a820f51ac584aafc7cc460/colossus-1.2.14-py2.py3-none-any.whl (168kB)\n",
            "\u001b[K     |████████████████████████████████| 174kB 52.1MB/s \n",
            "\u001b[?25hRequirement already satisfied: six in /usr/local/lib/python3.7/dist-packages (from dynesty==1.0.1->autofit) (1.15.0)\n",
            "Requirement already satisfied: future in /usr/local/lib/python3.7/dist-packages (from pyswarms==1.1.0->autofit) (0.16.0)\n",
            "Requirement already satisfied: attrs in /usr/local/lib/python3.7/dist-packages (from pyswarms==1.1.0->autofit) (20.3.0)\n",
            "Requirement already satisfied: tqdm in /usr/local/lib/python3.7/dist-packages (from pyswarms==1.1.0->autofit) (4.41.1)\n",
            "Collecting mypy-extensions>=0.3.0\n",
            "  Downloading https://files.pythonhosted.org/packages/5c/eb/975c7c080f3223a5cdaff09612f3a5221e4ba534f7039db34c35d95fa6a5/mypy_extensions-0.4.3-py2.py3-none-any.whl\n",
            "Requirement already satisfied: typing-extensions>=3.7.4 in /usr/local/lib/python3.7/dist-packages (from typing-inspect>=0.4.0->autofit) (3.7.4.3)\n",
            "Requirement already satisfied: setuptools in /usr/local/lib/python3.7/dist-packages (from sphinx>=1.6.5->numpydoc>=1.0.0->autolens) (54.1.2)\n",
            "Requirement already satisfied: alabaster<0.8,>=0.7 in /usr/local/lib/python3.7/dist-packages (from sphinx>=1.6.5->numpydoc>=1.0.0->autolens) (0.7.12)\n",
            "Requirement already satisfied: snowballstemmer>=1.1 in /usr/local/lib/python3.7/dist-packages (from sphinx>=1.6.5->numpydoc>=1.0.0->autolens) (2.1.0)\n",
            "Requirement already satisfied: babel!=2.0,>=1.3 in /usr/local/lib/python3.7/dist-packages (from sphinx>=1.6.5->numpydoc>=1.0.0->autolens) (2.9.0)\n",
            "Requirement already satisfied: imagesize in /usr/local/lib/python3.7/dist-packages (from sphinx>=1.6.5->numpydoc>=1.0.0->autolens) (1.2.0)\n",
            "Requirement already satisfied: packaging in /usr/local/lib/python3.7/dist-packages (from sphinx>=1.6.5->numpydoc>=1.0.0->autolens) (20.9)\n",
            "Requirement already satisfied: sphinxcontrib-websupport in /usr/local/lib/python3.7/dist-packages (from sphinx>=1.6.5->numpydoc>=1.0.0->autolens) (1.2.4)\n",
            "Requirement already satisfied: docutils>=0.11 in /usr/local/lib/python3.7/dist-packages (from sphinx>=1.6.5->numpydoc>=1.0.0->autolens) (0.16)\n",
            "Requirement already satisfied: Pygments>=2.0 in /usr/local/lib/python3.7/dist-packages (from sphinx>=1.6.5->numpydoc>=1.0.0->autolens) (2.6.1)\n",
            "Requirement already satisfied: requests>=2.0.0 in /usr/local/lib/python3.7/dist-packages (from sphinx>=1.6.5->numpydoc>=1.0.0->autolens) (2.23.0)\n",
            "Requirement already satisfied: MarkupSafe>=0.23 in /usr/local/lib/python3.7/dist-packages (from Jinja2>=2.3->numpydoc>=1.0.0->autolens) (1.1.1)\n",
            "Requirement already satisfied: PyWavelets>=0.4.0 in /usr/local/lib/python3.7/dist-packages (from scikit-image>=0.14.2->autoarray==0.20.0->autolens) (1.1.1)\n",
            "Requirement already satisfied: imageio>=2.3.0 in /usr/local/lib/python3.7/dist-packages (from scikit-image>=0.14.2->autoarray==0.20.0->autolens) (2.4.1)\n",
            "Requirement already satisfied: networkx>=2.0 in /usr/local/lib/python3.7/dist-packages (from scikit-image>=0.14.2->autoarray==0.20.0->autolens) (2.5)\n",
            "Requirement already satisfied: pillow>=4.3.0 in /usr/local/lib/python3.7/dist-packages (from scikit-image>=0.14.2->autoarray==0.20.0->autolens) (7.0.0)\n",
            "Requirement already satisfied: joblib>=0.11 in /usr/local/lib/python3.7/dist-packages (from scikit-learn>=0.21.3->autoarray==0.20.0->autolens) (1.0.1)\n",
            "Requirement already satisfied: cython>=0.28.0 in /usr/local/lib/python3.7/dist-packages (from pyquad==0.6.2->autogalaxy==0.19.0->autolens) (0.29.22)\n",
            "Requirement already satisfied: pytz>=2015.7 in /usr/local/lib/python3.7/dist-packages (from babel!=2.0,>=1.3->sphinx>=1.6.5->numpydoc>=1.0.0->autolens) (2018.9)\n",
            "Requirement already satisfied: sphinxcontrib-serializinghtml in /usr/local/lib/python3.7/dist-packages (from sphinxcontrib-websupport->sphinx>=1.6.5->numpydoc>=1.0.0->autolens) (1.1.4)\n",
            "Requirement already satisfied: chardet<4,>=3.0.2 in /usr/local/lib/python3.7/dist-packages (from requests>=2.0.0->sphinx>=1.6.5->numpydoc>=1.0.0->autolens) (3.0.4)\n",
            "Requirement already satisfied: certifi>=2017.4.17 in /usr/local/lib/python3.7/dist-packages (from requests>=2.0.0->sphinx>=1.6.5->numpydoc>=1.0.0->autolens) (2020.12.5)\n",
            "Requirement already satisfied: idna<3,>=2.5 in /usr/local/lib/python3.7/dist-packages (from requests>=2.0.0->sphinx>=1.6.5->numpydoc>=1.0.0->autolens) (2.10)\n",
            "Requirement already satisfied: urllib3!=1.25.0,!=1.25.1,<1.26,>=1.21.1 in /usr/local/lib/python3.7/dist-packages (from requests>=2.0.0->sphinx>=1.6.5->numpydoc>=1.0.0->autolens) (1.24.3)\n",
            "\u001b[31mERROR: albumentations 0.1.12 has requirement imgaug<0.2.7,>=0.2.5, but you'll have imgaug 0.2.9 which is incompatible.\u001b[0m\n",
            "Installing collected packages: pyprojroot, mypy-extensions, typing-inspect, autoconf, emcee, numpydoc, scipy, dynesty, corner, pyswarms, SQLAlchemy, autofit, pylops, pynufft, autoarray, pyquad, colossus, autogalaxy, autolens\n",
            "  Found existing installation: scipy 1.4.1\n",
            "    Uninstalling scipy-1.4.1:\n",
            "      Successfully uninstalled scipy-1.4.1\n",
            "  Found existing installation: SQLAlchemy 1.3.23\n",
            "    Uninstalling SQLAlchemy-1.3.23:\n",
            "      Successfully uninstalled SQLAlchemy-1.3.23\n",
            "Successfully installed SQLAlchemy-1.3.20 autoarray-0.20.0 autoconf-0.8.0 autofit-0.74.0 autogalaxy-0.19.0 autolens-1.14.0 colossus-1.2.14 corner-2.2.1 dynesty-1.0.1 emcee-3.0.2 mypy-extensions-0.4.3 numpydoc-1.1.0 pylops-1.12.0 pynufft-2020.2.7 pyprojroot-0.2.0 pyquad-0.6.2 pyswarms-1.1.0 scipy-1.5.2 typing-inspect-0.6.0\n"
          ],
          "name": "stdout"
        }
      ]
    },
    {
      "cell_type": "code",
      "metadata": {
        "id": "YQ_Yw3055b1O"
      },
      "source": [
        ""
      ],
      "execution_count": null,
      "outputs": []
    }
  ]
}